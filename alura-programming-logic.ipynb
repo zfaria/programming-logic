{
  "cells": [
    {
      "attachments": {},
      "cell_type": "markdown",
      "metadata": {
        "id": "8zmXc3la4EbV"
      },
      "source": [
        "# Lógica de Programação com Python "
      ]
    },
    {
      "cell_type": "code",
      "execution_count": 1,
      "metadata": {
        "colab": {
          "base_uri": "https://localhost:8080/"
        },
        "id": "271b_z0d3Zyl",
        "outputId": "3156c471-8eb4-4684-ebe3-37d6bb651fc0"
      },
      "outputs": [
        {
          "data": {
            "text/plain": [
              "2"
            ]
          },
          "execution_count": 1,
          "metadata": {},
          "output_type": "execute_result"
        }
      ],
      "source": [
        "1+1\n"
      ]
    },
    {
      "cell_type": "code",
      "execution_count": 2,
      "metadata": {
        "colab": {
          "base_uri": "https://localhost:8080/",
          "height": 35
        },
        "id": "QzL4oyGs34sx",
        "outputId": "7989b349-2315-421d-f3b4-503c9ae7f155"
      },
      "outputs": [
        {
          "data": {
            "text/plain": [
              "'José'"
            ]
          },
          "execution_count": 2,
          "metadata": {},
          "output_type": "execute_result"
        }
      ],
      "source": [
        "\"José\""
      ]
    },
    {
      "cell_type": "code",
      "execution_count": 5,
      "metadata": {
        "id": "VOMAeHDq5q_Y"
      },
      "outputs": [],
      "source": [
        "nome = 'José'"
      ]
    },
    {
      "cell_type": "code",
      "execution_count": 6,
      "metadata": {
        "colab": {
          "base_uri": "https://localhost:8080/",
          "height": 35
        },
        "id": "9ZpbssAC5ved",
        "outputId": "9c066d8c-2452-4d00-a789-68da8b0430db"
      },
      "outputs": [
        {
          "data": {
            "text/plain": [
              "'José'"
            ]
          },
          "execution_count": 6,
          "metadata": {},
          "output_type": "execute_result"
        }
      ],
      "source": [
        "nome "
      ]
    },
    {
      "cell_type": "code",
      "execution_count": 7,
      "metadata": {
        "id": "HuTzrEmh504D"
      },
      "outputs": [],
      "source": [
        "idade = 23"
      ]
    },
    {
      "cell_type": "code",
      "execution_count": null,
      "metadata": {
        "colab": {
          "base_uri": "https://localhost:8080/"
        },
        "id": "gVs-iOf06C3W",
        "outputId": "24c4eed4-5dfc-4357-8126-bbe781eebbdc"
      },
      "outputs": [
        {
          "data": {
            "text/plain": [
              "23"
            ]
          },
          "execution_count": 6,
          "metadata": {},
          "output_type": "execute_result"
        }
      ],
      "source": [
        "idade"
      ]
    },
    {
      "cell_type": "code",
      "execution_count": 8,
      "metadata": {
        "colab": {
          "base_uri": "https://localhost:8080/"
        },
        "id": "D5QrzyQF6D3Y",
        "outputId": "2179e9ef-a449-4dcd-f977-bac1679cecff"
      },
      "outputs": [
        {
          "name": "stdout",
          "output_type": "stream",
          "text": [
            "o nome é José e sua idade é 23 anos\n"
          ]
        }
      ],
      "source": [
        "print(f'o nome é {nome} e sua idade é {idade} anos' )"
      ]
    },
    {
      "cell_type": "code",
      "execution_count": 3,
      "metadata": {
        "id": "1nMhY1NV_SKf"
      },
      "outputs": [],
      "source": [
        "idade=24"
      ]
    },
    {
      "cell_type": "code",
      "execution_count": 9,
      "metadata": {
        "colab": {
          "base_uri": "https://localhost:8080/"
        },
        "id": "6VbHr4j5AAfm",
        "outputId": "d8ce6342-dd2d-4c08-f9d1-3c63cc7f4a60"
      },
      "outputs": [
        {
          "name": "stdout",
          "output_type": "stream",
          "text": [
            "o nome é José e sua idade é 23 anos\n"
          ]
        }
      ],
      "source": [
        "print(f'o nome é {nome} e sua idade é {idade} anos' )"
      ]
    },
    {
      "attachments": {},
      "cell_type": "markdown",
      "metadata": {
        "id": "q_04uAaKAVo_"
      },
      "source": [
        "# Criando minha primeira função \n"
      ]
    },
    {
      "cell_type": "code",
      "execution_count": 10,
      "metadata": {
        "id": "14PODksJAcpW"
      },
      "outputs": [],
      "source": [
        "def saudacao ():\n",
        "  nome = input('Qual o seu nome? ')\n",
        "  print(f'Olá {nome}')"
      ]
    },
    {
      "cell_type": "code",
      "execution_count": 11,
      "metadata": {
        "colab": {
          "base_uri": "https://localhost:8080/"
        },
        "id": "rsjxC5GfBh9S",
        "outputId": "1d943c4a-5417-4164-cd01-ddccd6a9bf82"
      },
      "outputs": [
        {
          "name": "stdout",
          "output_type": "stream",
          "text": [
            "Olá Carlos\n"
          ]
        }
      ],
      "source": [
        "saudacao()"
      ]
    },
    {
      "cell_type": "code",
      "execution_count": 12,
      "metadata": {
        "colab": {
          "base_uri": "https://localhost:8080/"
        },
        "id": "ZYc5-4jGBs32",
        "outputId": "b6289904-162b-4250-b86e-e9d712a36ef8"
      },
      "outputs": [
        {
          "name": "stdout",
          "output_type": "stream",
          "text": [
            "Carlos Tofoli\n"
          ]
        }
      ],
      "source": [
        "def nome_completo():\n",
        " primeiro_nome = input('Qual seu primeiro nome? ')\n",
        " sobrenome = input('Qual seu sobrenome? ')\n",
        " nome_inteiro = primeiro_nome + ' ' + sobrenome\n",
        " print(nome_inteiro)\n",
        "\n",
        "nome_completo()\n"
      ]
    },
    {
      "attachments": {},
      "cell_type": "markdown",
      "metadata": {
        "id": "AGeJbrxvMCZ4"
      },
      "source": [
        "# Parâmetros"
      ]
    },
    {
      "cell_type": "code",
      "execution_count": 13,
      "metadata": {
        "id": "qZtidOerK8g-"
      },
      "outputs": [],
      "source": [
        "nome = 'Carlos'"
      ]
    },
    {
      "cell_type": "code",
      "execution_count": 15,
      "metadata": {
        "id": "RniZOg7qK_ca"
      },
      "outputs": [],
      "source": [
        "def saudacao_com_parametros (nome_da_pessoa):\n",
        "  print(f'Olá {nome_da_pessoa}')"
      ]
    },
    {
      "cell_type": "code",
      "execution_count": 16,
      "metadata": {
        "colab": {
          "base_uri": "https://localhost:8080/"
        },
        "id": "_f2o2gCJLV5t",
        "outputId": "e6b69c61-2439-460d-c564-16ab2d62572f"
      },
      "outputs": [
        {
          "name": "stdout",
          "output_type": "stream",
          "text": [
            "Olá Carlos\n"
          ]
        }
      ],
      "source": [
        "saudacao_com_parametros(nome)"
      ]
    },
    {
      "cell_type": "code",
      "execution_count": null,
      "metadata": {
        "id": "fNY3eAlCVe44"
      },
      "outputs": [],
      "source": []
    },
    {
      "attachments": {},
      "cell_type": "markdown",
      "metadata": {
        "id": "3ar1Vg10VftG"
      },
      "source": [
        "# Condicional"
      ]
    },
    {
      "cell_type": "code",
      "execution_count": 17,
      "metadata": {
        "colab": {
          "base_uri": "https://localhost:8080/"
        },
        "id": "asvkWJg2VoNc",
        "outputId": "ade232e6-0fd7-440c-f23c-02d61d6cfead"
      },
      "outputs": [
        {
          "name": "stdout",
          "output_type": "stream",
          "text": [
            "Não tem permissão para dirigir\n"
          ]
        }
      ],
      "source": [
        "idade = 17\n",
        "def verifica_se_pode_dirigir(idade):\n",
        "  if idade >= 18:\n",
        "    print('Tem permissão para dirigir')\n",
        "  else:  \n",
        "    print('Não tem permissão para dirigir')\n",
        "\n",
        "verifica_se_pode_dirigir(idade)"
      ]
    },
    {
      "cell_type": "code",
      "execution_count": null,
      "metadata": {
        "id": "oecI7hAPY6Qu"
      },
      "outputs": [],
      "source": []
    },
    {
      "attachments": {},
      "cell_type": "markdown",
      "metadata": {
        "id": "RyDvrw3rZ7wa"
      },
      "source": [
        "## Convertendo tipo para inteiro"
      ]
    },
    {
      "cell_type": "code",
      "execution_count": null,
      "metadata": {
        "colab": {
          "base_uri": "https://localhost:8080/"
        },
        "id": "M1NPdWSNaALc",
        "outputId": "4e5a242a-e7a4-4c0e-b369-dd915f286761"
      },
      "outputs": [
        {
          "name": "stdout",
          "output_type": "stream",
          "text": [
            "Qual sua idade? 18\n",
            "Tem permissão para dirigir\n"
          ]
        }
      ],
      "source": [
        "def verifica_se_pode_dirigir_sem_parametro():\n",
        "    idade = input('Qual sua idade? ')\n",
        "    idade = int(idade)\n",
        "    if idade >= 18:\n",
        "        print('Tem permissão para dirigir')\n",
        "    else:\n",
        "        print('Não tem permissão para dirigir')\n",
        "\n",
        "\n",
        "verifica_se_pode_dirigir_sem_parametro()\n"
      ]
    },
    {
      "cell_type": "code",
      "execution_count": null,
      "metadata": {
        "id": "36npylSjeHoj"
      },
      "outputs": [],
      "source": []
    },
    {
      "attachments": {},
      "cell_type": "markdown",
      "metadata": {
        "id": "3SykdYzveH6M"
      },
      "source": [
        "# Lista\n"
      ]
    },
    {
      "cell_type": "code",
      "execution_count": null,
      "metadata": {
        "colab": {
          "base_uri": "https://localhost:8080/"
        },
        "id": "yIZ1iwp0eOGp",
        "outputId": "e5ba2028-9bd9-4244-d5a0-26055273c327"
      },
      "outputs": [
        {
          "data": {
            "text/plain": [
              "22"
            ]
          },
          "execution_count": 26,
          "metadata": {},
          "output_type": "execute_result"
        }
      ],
      "source": [
        "idade=22\n",
        "idade"
      ]
    },
    {
      "cell_type": "code",
      "execution_count": null,
      "metadata": {
        "colab": {
          "base_uri": "https://localhost:8080/"
        },
        "id": "lhv8usEWenaR",
        "outputId": "d2ae77a4-445e-4cc7-94a8-16746915a2ff"
      },
      "outputs": [
        {
          "data": {
            "text/plain": [
              "int"
            ]
          },
          "execution_count": 27,
          "metadata": {},
          "output_type": "execute_result"
        }
      ],
      "source": [
        "type(idade)"
      ]
    },
    {
      "cell_type": "code",
      "execution_count": null,
      "metadata": {
        "id": "yVTbB-F_ep-Q"
      },
      "outputs": [],
      "source": [
        "nome='José'"
      ]
    },
    {
      "cell_type": "code",
      "execution_count": null,
      "metadata": {
        "colab": {
          "base_uri": "https://localhost:8080/",
          "height": 35
        },
        "id": "uw4-bieZeuSc",
        "outputId": "868a6bda-367c-45c6-9b8b-7e8643017dc4"
      },
      "outputs": [
        {
          "data": {
            "application/vnd.google.colaboratory.intrinsic+json": {
              "type": "string"
            },
            "text/plain": [
              "'José'"
            ]
          },
          "execution_count": 29,
          "metadata": {},
          "output_type": "execute_result"
        }
      ],
      "source": [
        "nome"
      ]
    },
    {
      "cell_type": "code",
      "execution_count": null,
      "metadata": {
        "colab": {
          "base_uri": "https://localhost:8080/"
        },
        "id": "71eVDgiBevRm",
        "outputId": "e1194f23-2c71-4ce2-d2f4-dd6f539eeecb"
      },
      "outputs": [
        {
          "data": {
            "text/plain": [
              "str"
            ]
          },
          "execution_count": 30,
          "metadata": {},
          "output_type": "execute_result"
        }
      ],
      "source": [
        "type(nome)"
      ]
    },
    {
      "cell_type": "code",
      "execution_count": null,
      "metadata": {
        "id": "RCQ2k70hexhk"
      },
      "outputs": [],
      "source": [
        "idades = [18, 22, 15, 50]\n",
        "#         0   1   2   3   \n",
        "#         0  -3  -2  -1"
      ]
    },
    {
      "cell_type": "code",
      "execution_count": null,
      "metadata": {
        "colab": {
          "base_uri": "https://localhost:8080/"
        },
        "id": "AGXkZjF8e5bE",
        "outputId": "bb020791-fc7c-4f00-e6c9-34511463d5df"
      },
      "outputs": [
        {
          "data": {
            "text/plain": [
              "list"
            ]
          },
          "execution_count": 32,
          "metadata": {},
          "output_type": "execute_result"
        }
      ],
      "source": [
        "type(idades)"
      ]
    },
    {
      "cell_type": "code",
      "execution_count": null,
      "metadata": {
        "colab": {
          "base_uri": "https://localhost:8080/"
        },
        "id": "hXPceX5kfUK8",
        "outputId": "8102061f-27d4-47b7-c38e-81202be24a2e"
      },
      "outputs": [
        {
          "data": {
            "text/plain": [
              "15"
            ]
          },
          "execution_count": 33,
          "metadata": {},
          "output_type": "execute_result"
        }
      ],
      "source": [
        "idades[2]"
      ]
    },
    {
      "cell_type": "code",
      "execution_count": null,
      "metadata": {
        "colab": {
          "base_uri": "https://localhost:8080/"
        },
        "id": "qARAHILnfYbU",
        "outputId": "9bab33f4-c12d-48fc-ad0d-55f6df1f163b"
      },
      "outputs": [
        {
          "data": {
            "text/plain": [
              "22"
            ]
          },
          "execution_count": 34,
          "metadata": {},
          "output_type": "execute_result"
        }
      ],
      "source": [
        "idades[1]"
      ]
    },
    {
      "cell_type": "code",
      "execution_count": null,
      "metadata": {
        "colab": {
          "base_uri": "https://localhost:8080/"
        },
        "id": "AJ_rT28ifwZj",
        "outputId": "d1f9033e-04d3-4921-c50c-36cd1c9179c3"
      },
      "outputs": [
        {
          "data": {
            "text/plain": [
              "[18, 22, 15]"
            ]
          },
          "execution_count": 35,
          "metadata": {},
          "output_type": "execute_result"
        }
      ],
      "source": [
        "idades[0:3]"
      ]
    },
    {
      "cell_type": "code",
      "execution_count": null,
      "metadata": {
        "colab": {
          "base_uri": "https://localhost:8080/"
        },
        "id": "ksrGdYcWgF6h",
        "outputId": "db3dd370-964a-4aec-a9de-a99a545a46fd"
      },
      "outputs": [
        {
          "data": {
            "text/plain": [
              "[22, 15, 50]"
            ]
          },
          "execution_count": 36,
          "metadata": {},
          "output_type": "execute_result"
        }
      ],
      "source": [
        "idades[1:]"
      ]
    },
    {
      "cell_type": "code",
      "execution_count": null,
      "metadata": {
        "colab": {
          "base_uri": "https://localhost:8080/"
        },
        "id": "h883oJj_gm2P",
        "outputId": "84fb4403-7005-431a-a85b-925c19330b10"
      },
      "outputs": [
        {
          "data": {
            "text/plain": [
              "50"
            ]
          },
          "execution_count": 37,
          "metadata": {},
          "output_type": "execute_result"
        }
      ],
      "source": [
        "idades[-1]"
      ]
    },
    {
      "cell_type": "code",
      "execution_count": null,
      "metadata": {
        "colab": {
          "base_uri": "https://localhost:8080/"
        },
        "id": "K46VXXYBhB06",
        "outputId": "c20931a5-e95a-4670-fb15-dc3535e2f8a9"
      },
      "outputs": [
        {
          "data": {
            "text/plain": [
              "15"
            ]
          },
          "execution_count": 38,
          "metadata": {},
          "output_type": "execute_result"
        }
      ],
      "source": [
        "idades[-2]"
      ]
    },
    {
      "cell_type": "code",
      "execution_count": null,
      "metadata": {
        "colab": {
          "base_uri": "https://localhost:8080/"
        },
        "id": "Lr-m-tzjhD3r",
        "outputId": "6ac42284-a917-41ab-c2c2-2253c9a09d29"
      },
      "outputs": [
        {
          "data": {
            "text/plain": [
              "[18, 22, 15, 50]"
            ]
          },
          "execution_count": 39,
          "metadata": {},
          "output_type": "execute_result"
        }
      ],
      "source": [
        "idades"
      ]
    },
    {
      "attachments": {},
      "cell_type": "markdown",
      "metadata": {
        "id": "atBJR7N3iFun"
      },
      "source": [
        "# Laços e Loops\n"
      ]
    },
    {
      "cell_type": "code",
      "execution_count": null,
      "metadata": {
        "colab": {
          "base_uri": "https://localhost:8080/"
        },
        "id": "-qKvQdQgiKX3",
        "outputId": "08ea2a15-da40-4685-e388-1d26a6d64e96"
      },
      "outputs": [
        {
          "name": "stdout",
          "output_type": "stream",
          "text": [
            "20 anos de idade, TEM permissão para dirigir\n",
            "14 anos de idade, NÃO TEM permissão para dirigir\n",
            "40 anos de idade, TEM permissão para dirigir\n"
          ]
        }
      ],
      "source": [
        "# for fora da função \n",
        "\n",
        "def verifica_se_pode_dirigir(idade):\n",
        "  if idade >= 18:\n",
        "    print(f'{idade} anos de idade, TEM permissão para dirigir')\n",
        "  else:  \n",
        "    print(f'{idade} anos de idade, NÃO TEM permissão para dirigir')\n",
        "\n",
        "for idade in idades:\n",
        "  verifica_se_pode_dirigir(idade)"
      ]
    },
    {
      "cell_type": "code",
      "execution_count": null,
      "metadata": {
        "colab": {
          "base_uri": "https://localhost:8080/"
        },
        "id": "KeknH3FGj7_O",
        "outputId": "d6966a5a-2e8a-44ab-bd98-f583938889f9"
      },
      "outputs": [
        {
          "name": "stdout",
          "output_type": "stream",
          "text": [
            "20 anos de idade, TEM permissão para dirigir\n",
            "14 anos de idade, NÃO TEM permissão para dirigir\n",
            "40 anos de idade, TEM permissão para dirigir\n"
          ]
        }
      ],
      "source": [
        "# for dentro da função\n",
        "\n",
        "def verifica_se_pode_dirigir (idades):\n",
        "  for idade in idades:\n",
        "    if idade >= 18:\n",
        "     print(f'{idade} anos de idade, TEM permissão para dirigir')\n",
        "    else:  \n",
        "     print(f'{idade} anos de idade, NÃO TEM permissão para dirigir')\n",
        "\n",
        "verifica_se_pode_dirigir(idades)\n"
      ]
    },
    {
      "cell_type": "code",
      "execution_count": null,
      "metadata": {
        "id": "_Lxc0lDdt5ur"
      },
      "outputs": [],
      "source": []
    },
    {
      "attachments": {},
      "cell_type": "markdown",
      "metadata": {
        "id": "4MyJBCF5t6Od"
      },
      "source": [
        "# Booleano"
      ]
    },
    {
      "cell_type": "code",
      "execution_count": null,
      "metadata": {
        "colab": {
          "base_uri": "https://localhost:8080/"
        },
        "id": "UR-V-bKGt8MC",
        "outputId": "f1a56803-ae1d-49a0-ae51-590783ca8456"
      },
      "outputs": [
        {
          "data": {
            "text/plain": [
              "False"
            ]
          },
          "execution_count": 44,
          "metadata": {},
          "output_type": "execute_result"
        }
      ],
      "source": [
        "idade = 15\n",
        "idade >=18 "
      ]
    },
    {
      "cell_type": "code",
      "execution_count": null,
      "metadata": {
        "id": "2NJNI-tSubj4"
      },
      "outputs": [],
      "source": [
        "permissoes = []\n",
        "idades = [20, 14, 40]\n",
        "\n",
        "def verifica_se_pode_dirigir (idades, permissoes):\n",
        "  for idade in idades: \n",
        "    if idade >= 18:\n",
        "       permissoes.append (True)\n",
        "    else:\n",
        "        permissoes.append (False)\n",
        "\n",
        "verifica_se_pode_dirigir(idades, permissoes)   "
      ]
    },
    {
      "cell_type": "code",
      "execution_count": null,
      "metadata": {
        "colab": {
          "base_uri": "https://localhost:8080/"
        },
        "id": "wQXtWN7Vvwfn",
        "outputId": "7c1a323a-7836-4ed0-a638-aa71fcd87195"
      },
      "outputs": [
        {
          "data": {
            "text/plain": [
              "[True, False, True]"
            ]
          },
          "execution_count": 46,
          "metadata": {},
          "output_type": "execute_result"
        }
      ],
      "source": [
        "permissoes"
      ]
    },
    {
      "cell_type": "code",
      "execution_count": null,
      "metadata": {
        "colab": {
          "base_uri": "https://localhost:8080/"
        },
        "id": "BImvwQoNwF7w",
        "outputId": "1fb7f1a4-6331-4d60-e094-ddf6ccbfd5aa"
      },
      "outputs": [
        {
          "name": "stdout",
          "output_type": "stream",
          "text": [
            "TEM permissão para dirigir\n",
            "NÃO TEM permissão para dirigir\n",
            "TEM permissão para dirigir\n"
          ]
        }
      ],
      "source": [
        "for permissao in permissoes:\n",
        "  if permissao == True:\n",
        "    print('TEM permissão para dirigir')\n",
        "  else:\n",
        "    print('NÃO TEM permissão para dirigir')"
      ]
    },
    {
      "cell_type": "code",
      "execution_count": null,
      "metadata": {
        "id": "xAsQxvJ_ylaL"
      },
      "outputs": [],
      "source": []
    },
    {
      "attachments": {},
      "cell_type": "markdown",
      "metadata": {
        "id": "ONrVik1uyo4c"
      },
      "source": [
        "# Tipos em uma lista"
      ]
    },
    {
      "cell_type": "code",
      "execution_count": null,
      "metadata": {
        "id": "42IPJ2vOytJX"
      },
      "outputs": [],
      "source": [
        "lista = ['José', 23, True, '18']\n",
        "\n",
        "for elemento in lista:\n",
        "  print(f'O elemento {elemento} é do tipo: ',type(elemento))"
      ]
    },
    {
      "attachments": {},
      "cell_type": "markdown",
      "metadata": {
        "id": "AR_KXr462auU"
      },
      "source": [
        "# Import"
      ]
    },
    {
      "cell_type": "code",
      "execution_count": null,
      "metadata": {
        "id": "YxalJIi62gjq"
      },
      "outputs": [],
      "source": [
        "from random import randrange\n"
      ]
    },
    {
      "cell_type": "code",
      "execution_count": null,
      "metadata": {
        "colab": {
          "base_uri": "https://localhost:8080/"
        },
        "id": "5JG4UqwQLs5j",
        "outputId": "fb6203d9-896d-40ef-d3ea-fe7a3e67fa31"
      },
      "outputs": [
        {
          "data": {
            "text/plain": [
              "9"
            ]
          },
          "execution_count": 9,
          "metadata": {},
          "output_type": "execute_result"
        }
      ],
      "source": [
        "randrange(0,11)"
      ]
    },
    {
      "cell_type": "code",
      "execution_count": null,
      "metadata": {
        "id": "V2wdtt-GkAEl"
      },
      "outputs": [],
      "source": [
        "notas_matematica = []\n",
        "\n",
        "for notas in range(8):\n",
        "    notas_matematica.append([randrange(0,11)])\n",
        "\n"
      ]
    },
    {
      "cell_type": "code",
      "execution_count": null,
      "metadata": {
        "id": "yC2EpBNsCGTJ"
      },
      "outputs": [],
      "source": [
        "import matplotlib.pyplot as plt"
      ]
    },
    {
      "cell_type": "code",
      "execution_count": null,
      "metadata": {
        "colab": {
          "base_uri": "https://localhost:8080/",
          "height": 472
        },
        "id": "JT38PV57HXLk",
        "outputId": "a21b4285-3519-47c2-c989-32f063acef7e"
      },
      "outputs": [
        {
          "data": {
            "image/png": "[encoded data removed]",
            "text/plain": [
              "<Figure size 640x480 with 1 Axes>"
            ]
          },
          "metadata": {},
          "output_type": "display_data"
        }
      ],
      "source": [
        "x = list(range(1,9))\n",
        "y = notas_matematica\n",
        "plt.plot(x, y, marker='o')\n",
        "plt.title('Notas de matemática')\n",
        "plt.xlabel('Provas')\n",
        "plt.ylabel('Notas')\n",
        "plt.show()            "
      ]
    }
  ],
  "metadata": {
    "colab": {
      "provenance": []
    },
    "kernelspec": {
      "display_name": "Python 3",
      "name": "python3"
    },
    "language_info": {
      "codemirror_mode": {
        "name": "ipython",
        "version": 3
      },
      "file_extension": ".py",
      "mimetype": "text/x-python",
      "name": "python",
      "nbconvert_exporter": "python",
      "pygments_lexer": "ipython3",
      "version": "3.10.11"
    }
  },
  "nbformat": 4,
  "nbformat_minor": 0
}
